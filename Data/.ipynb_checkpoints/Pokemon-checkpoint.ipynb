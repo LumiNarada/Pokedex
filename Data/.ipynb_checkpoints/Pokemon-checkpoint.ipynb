{
 "cells": [
  {
   "cell_type": "markdown",
   "id": "fecab8e7",
   "metadata": {},
   "source": [
    "# Creación de Data Frame y JSON de Pokemones capturados"
   ]
  },
  {
   "cell_type": "markdown",
   "id": "30d72924",
   "metadata": {},
   "source": [
    "Importación de Librería Pandas"
   ]
  },
  {
   "cell_type": "code",
   "execution_count": 42,
   "id": "211c73db",
   "metadata": {},
   "outputs": [],
   "source": [
    "import pandas as pd"
   ]
  },
  {
   "cell_type": "markdown",
   "id": "a1470ab5",
   "metadata": {},
   "source": [
    "Creación de arreglo sin ningún pokemon y declaración de Data Frame"
   ]
  },
  {
   "cell_type": "code",
   "execution_count": 43,
   "id": "a55c58c2",
   "metadata": {},
   "outputs": [],
   "source": [
    "pokemon= {\n",
    "    \"nombre\":[\"Ninguno\"],\n",
    "    \"especie\":[0],\n",
    "    \"vida_actual\":[0],\n",
    "    \"lvl_actual\":[0],\n",
    "    \"exp_actual\":[0],\n",
    "    \"evol\":[0],\n",
    "    \"ataqueA\":[\"Ninguno\"],\n",
    "    \"ataqueB\":[\"Ninguno\"],\n",
    "    \"ataqueC\":[\"Ninguno\"],\n",
    "    \"ataqueD\":[\"Ninguno\"]\n",
    "}\n",
    "df = pd.DataFrame(pokemon)"
   ]
  },
  {
   "cell_type": "markdown",
   "id": "4b49c17e",
   "metadata": {},
   "source": [
    "Exportación de Data Frame a Json"
   ]
  },
  {
   "cell_type": "code",
   "execution_count": 44,
   "id": "9a31ac22",
   "metadata": {},
   "outputs": [],
   "source": [
    "df.to_json('pokemon.json')"
   ]
  },
  {
   "cell_type": "markdown",
   "id": "3038a0ec",
   "metadata": {},
   "source": [
    "Visualización de Data Frame Final"
   ]
  },
  {
   "cell_type": "code",
   "execution_count": 45,
   "id": "ded5c3dd",
   "metadata": {},
   "outputs": [
    {
     "data": {
      "text/html": [
       "<div>\n",
       "<style scoped>\n",
       "    .dataframe tbody tr th:only-of-type {\n",
       "        vertical-align: middle;\n",
       "    }\n",
       "\n",
       "    .dataframe tbody tr th {\n",
       "        vertical-align: top;\n",
       "    }\n",
       "\n",
       "    .dataframe thead th {\n",
       "        text-align: right;\n",
       "    }\n",
       "</style>\n",
       "<table border=\"1\" class=\"dataframe\">\n",
       "  <thead>\n",
       "    <tr style=\"text-align: right;\">\n",
       "      <th></th>\n",
       "      <th>nombre</th>\n",
       "      <th>especie</th>\n",
       "      <th>vida_actual</th>\n",
       "      <th>lvl_actual</th>\n",
       "      <th>exp_actual</th>\n",
       "      <th>evol</th>\n",
       "      <th>ataqueA</th>\n",
       "      <th>ataqueB</th>\n",
       "      <th>ataqueC</th>\n",
       "      <th>ataqueD</th>\n",
       "    </tr>\n",
       "  </thead>\n",
       "  <tbody>\n",
       "    <tr>\n",
       "      <th>0</th>\n",
       "      <td>Ninguno</td>\n",
       "      <td>0</td>\n",
       "      <td>0</td>\n",
       "      <td>0</td>\n",
       "      <td>0</td>\n",
       "      <td>0</td>\n",
       "      <td>Ninguno</td>\n",
       "      <td>Ninguno</td>\n",
       "      <td>Ninguno</td>\n",
       "      <td>Ninguno</td>\n",
       "    </tr>\n",
       "  </tbody>\n",
       "</table>\n",
       "</div>"
      ],
      "text/plain": [
       "    nombre  especie  vida_actual  lvl_actual  exp_actual  evol  ataqueA  \\\n",
       "0  Ninguno        0            0           0           0     0  Ninguno   \n",
       "\n",
       "   ataqueB  ataqueC  ataqueD  \n",
       "0  Ninguno  Ninguno  Ninguno  "
      ]
     },
     "execution_count": 45,
     "metadata": {},
     "output_type": "execute_result"
    }
   ],
   "source": [
    "df"
   ]
  },
  {
   "cell_type": "code",
   "execution_count": 53,
   "id": "fc3c6192",
   "metadata": {
    "scrolled": true
   },
   "outputs": [
    {
     "data": {
      "text/html": [
       "<div>\n",
       "<style scoped>\n",
       "    .dataframe tbody tr th:only-of-type {\n",
       "        vertical-align: middle;\n",
       "    }\n",
       "\n",
       "    .dataframe tbody tr th {\n",
       "        vertical-align: top;\n",
       "    }\n",
       "\n",
       "    .dataframe thead th {\n",
       "        text-align: right;\n",
       "    }\n",
       "</style>\n",
       "<table border=\"1\" class=\"dataframe\">\n",
       "  <thead>\n",
       "    <tr style=\"text-align: right;\">\n",
       "      <th></th>\n",
       "      <th>nombre</th>\n",
       "      <th>especie</th>\n",
       "      <th>vida_actual</th>\n",
       "      <th>lvl_actual</th>\n",
       "      <th>exp_actual</th>\n",
       "      <th>evol</th>\n",
       "      <th>ataqueA</th>\n",
       "      <th>ataqueB</th>\n",
       "      <th>ataqueC</th>\n",
       "      <th>ataqueD</th>\n",
       "    </tr>\n",
       "  </thead>\n",
       "  <tbody>\n",
       "    <tr>\n",
       "      <th>0</th>\n",
       "      <td>BULBASAUR</td>\n",
       "      <td>BULBASAUR</td>\n",
       "      <td>200</td>\n",
       "      <td>5</td>\n",
       "      <td>0</td>\n",
       "      <td>0</td>\n",
       "      <td>ESPORA</td>\n",
       "      <td>Ninguno</td>\n",
       "      <td>Ninguno</td>\n",
       "      <td>Ninguno</td>\n",
       "    </tr>\n",
       "    <tr>\n",
       "      <th>1</th>\n",
       "      <td>BULBASAUR</td>\n",
       "      <td>BULBASAUR</td>\n",
       "      <td>10</td>\n",
       "      <td>2</td>\n",
       "      <td>0</td>\n",
       "      <td>0</td>\n",
       "      <td>ESPORA</td>\n",
       "      <td>Ninguno</td>\n",
       "      <td>Ninguno</td>\n",
       "      <td>Ninguno</td>\n",
       "    </tr>\n",
       "  </tbody>\n",
       "</table>\n",
       "</div>"
      ],
      "text/plain": [
       "      nombre    especie  vida_actual  lvl_actual  exp_actual  evol ataqueA  \\\n",
       "0  BULBASAUR  BULBASAUR          200           5           0     0  ESPORA   \n",
       "1  BULBASAUR  BULBASAUR           10           2           0     0  ESPORA   \n",
       "\n",
       "   ataqueB  ataqueC  ataqueD  \n",
       "0  Ninguno  Ninguno  Ninguno  \n",
       "1  Ninguno  Ninguno  Ninguno  "
      ]
     },
     "execution_count": 53,
     "metadata": {},
     "output_type": "execute_result"
    }
   ],
   "source": [
    "ndf=pd.read_json('pokemon.json')\n",
    "ndf"
   ]
  }
 ],
 "metadata": {
  "kernelspec": {
   "display_name": "Python 3 (ipykernel)",
   "language": "python",
   "name": "python3"
  },
  "language_info": {
   "codemirror_mode": {
    "name": "ipython",
    "version": 3
   },
   "file_extension": ".py",
   "mimetype": "text/x-python",
   "name": "python",
   "nbconvert_exporter": "python",
   "pygments_lexer": "ipython3",
   "version": "3.9.10"
  }
 },
 "nbformat": 4,
 "nbformat_minor": 5
}
