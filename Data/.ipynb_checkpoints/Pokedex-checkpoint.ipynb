{
 "cells": [
  {
   "cell_type": "markdown",
   "id": "24f6e286",
   "metadata": {},
   "source": [
    "# Creación de Data Frame y JSON de Pokedex"
   ]
  },
  {
   "cell_type": "markdown",
   "id": "87769915",
   "metadata": {},
   "source": [
    "Importación de Librería Pandas"
   ]
  },
  {
   "cell_type": "code",
   "execution_count": 1,
   "id": "efa584c3",
   "metadata": {},
   "outputs": [],
   "source": [
    "import pandas as pd\n",
    "from random import randint"
   ]
  },
  {
   "cell_type": "markdown",
   "id": "ca38d5cf",
   "metadata": {},
   "source": [
    "Creación de arreglo con los primeros 6 pokemones y declaración de Data Frame"
   ]
  },
  {
   "cell_type": "code",
   "execution_count": 13,
   "id": "1f53f466",
   "metadata": {},
   "outputs": [],
   "source": [
    "pokedex = {\n",
    "    \"num\":[1,4,7],\n",
    "    \"nombre\":[\"Bulbasaur\", \"Charmander\", \"Squirtle\"],\n",
    "    \"tipo\":[\"Planta\", \"Fuego\", \"Agua\"],\n",
    "    \"vida_total\":[200,250,300],\n",
    "    \"lvl_max\":[16,16,16],\n",
    "    \"aparicion\":[0,0,0],\n",
    "    \"descripcion\":\n",
    "        [\n",
    "        \"Este Pokémon nace con una semilla en el lomo. Con el tiempo, la semilla brota.\",\n",
    "        \"Este Pokémon nace con una llama en la punta de la cola. Si la llama se apagara, el Pokémon se debilitaría.\",\n",
    "        \"Cuando se esconde en el caparazón, dispara agua a una presión increíble.\", \n",
    "        ]\n",
    "}\n",
    "df = pd.DataFrame(pokedex)"
   ]
  },
  {
   "cell_type": "markdown",
   "id": "1852df2e",
   "metadata": {},
   "source": [
    "Concatenación del resto de pokemones al Data Frame principal"
   ]
  },
  {
   "cell_type": "code",
   "execution_count": 14,
   "id": "fb0182ac",
   "metadata": {},
   "outputs": [],
   "source": [
    "pokemon = pd.DataFrame({'num':[10], 'nombre':[\"Caterpie\"], 'tipo':[\"Bicho\"], 'vida_total':[110], 'lvl_max':[16], \"aparicion\":[3], \"descripcion\":[\"Tiene la piel de color verde. Cuando la muda, se recubre de seda y se convierte en capullo.\"]})\n",
    "df=pd.concat([df,pokemon],ignore_index=True)"
   ]
  },
  {
   "cell_type": "code",
   "execution_count": 15,
   "id": "34f6a5b0",
   "metadata": {},
   "outputs": [],
   "source": [
    "pokemon = pd.DataFrame({'num':[13], 'nombre':[\"Weedle\"], 'tipo':[\"Veneno\"], 'vida_total':[100], 'lvl_max':[16], \"aparicion\":[3], \"descripcion\":[\"Suele habitar bosques y praderas. Tiene un afilado y venenoso aguijón de unos 5 cm encima de la cabeza.\"]})\n",
    "df=pd.concat([df,pokemon],ignore_index=True)"
   ]
  },
  {
   "cell_type": "code",
   "execution_count": 16,
   "id": "0a483bc7",
   "metadata": {},
   "outputs": [],
   "source": [
    "pokemon = pd.DataFrame({'num':[16], 'nombre':[\"Pidgey\"], 'tipo':[\"Volador\"], 'vida_total':[250], 'lvl_max':[16], \"aparicion\":[3], \"descripcion\":[\"A este Pokémon no le gusta luchar. Suele permanecer escondido en zonas de hierba alta. Se alimenta de pequeños insectos.\"]})\n",
    "df=pd.concat([df,pokemon],ignore_index=True)"
   ]
  },
  {
   "cell_type": "code",
   "execution_count": 17,
   "id": "db181f76",
   "metadata": {},
   "outputs": [],
   "source": [
    "pokemon = pd.DataFrame({'num':[19], 'nombre':[\"Rattata\"], 'tipo':[\"Normal\"], 'vida_total':[150], 'lvl_max':[32], \"aparicion\":[3], \"descripcion\":[\"Tiene unos largos y afilados colmillos que no dejan de crecer. Le resultan muy útiles para destruir cosas.\"]})\n",
    "df=pd.concat([df,pokemon],ignore_index=True)"
   ]
  },
  {
   "cell_type": "code",
   "execution_count": 18,
   "id": "fa280e60",
   "metadata": {},
   "outputs": [],
   "source": [
    "pokemon = pd.DataFrame({'num':[25], 'nombre':[\"Pikachu\"], 'tipo':[\"Eléctrico\"], 'vida_total':[300], 'lvl_max':[32], \"aparicion\":[2], \"descripcion\":[\"Las bolsas de las mejillas están llenas de electricidad, que libera cuando se siente amenazado.\"]})\n",
    "df=pd.concat([df,pokemon],ignore_index=True)"
   ]
  },
  {
   "cell_type": "code",
   "execution_count": 19,
   "id": "952a2714",
   "metadata": {},
   "outputs": [],
   "source": [
    "pokemon = pd.DataFrame({'num':[64], 'nombre':['Kadabra'], 'tipo':['Psíquico'], 'vida_total':[500], 'lvl_max':[48], \"aparicion\":[2], \"descripcion\":[\"Cuentan que una mañana, un niño que tenía poderes extrasensoriales, se despertó convertido en Kadabra.\"]})\n",
    "df=pd.concat([df,pokemon],ignore_index=True)"
   ]
  },
  {
   "cell_type": "code",
   "execution_count": 20,
   "id": "068aa83f",
   "metadata": {},
   "outputs": [],
   "source": [
    "pokemon = pd.DataFrame({'num':[150], 'nombre':['Mewtwo'], 'tipo':['Psíquico'], 'vida_total':[1700], 'lvl_max':[99], \"aparicion\":[7], \"descripcion\":[\"Su código genético se recombinó repetidas veces por motivos científicos y el resultado fue este curioso Pokémon.\"]})\n",
    "df=pd.concat([df,pokemon],ignore_index=True)\n"
   ]
  },
  {
   "cell_type": "markdown",
   "id": "70a1b4f6",
   "metadata": {},
   "source": [
    "Creación de columna extra para definir que ningún pokemon está capturado"
   ]
  },
  {
   "cell_type": "code",
   "execution_count": 21,
   "id": "611b91d0",
   "metadata": {},
   "outputs": [],
   "source": [
    "df['captura']=0"
   ]
  },
  {
   "cell_type": "markdown",
   "id": "17dbd9c4",
   "metadata": {},
   "source": [
    "Conversión de nombres a mayúsculas"
   ]
  },
  {
   "cell_type": "code",
   "execution_count": 22,
   "id": "99d19bbd",
   "metadata": {},
   "outputs": [],
   "source": [
    "df['nombre']=df['nombre'].str.upper()\n",
    "df['tipo']=df['tipo'].str.upper()"
   ]
  },
  {
   "cell_type": "markdown",
   "id": "b105407c",
   "metadata": {},
   "source": [
    "Definición de la columna num como índice"
   ]
  },
  {
   "cell_type": "markdown",
   "id": "ea1620b3",
   "metadata": {},
   "source": [
    "df.set_index('num', inplace=True)"
   ]
  },
  {
   "cell_type": "markdown",
   "id": "57122806",
   "metadata": {},
   "source": [
    "Exportación de Data Frame a Json"
   ]
  },
  {
   "cell_type": "code",
   "execution_count": 23,
   "id": "189d0f2a",
   "metadata": {},
   "outputs": [],
   "source": [
    "df.to_json('pokedex.json')"
   ]
  },
  {
   "cell_type": "markdown",
   "id": "9ab0cc7a",
   "metadata": {},
   "source": [
    "Visualización de Data Frame Final"
   ]
  },
  {
   "cell_type": "code",
   "execution_count": 24,
   "id": "0633f96d",
   "metadata": {
    "scrolled": false
   },
   "outputs": [
    {
     "data": {
      "text/html": [
       "<div>\n",
       "<style scoped>\n",
       "    .dataframe tbody tr th:only-of-type {\n",
       "        vertical-align: middle;\n",
       "    }\n",
       "\n",
       "    .dataframe tbody tr th {\n",
       "        vertical-align: top;\n",
       "    }\n",
       "\n",
       "    .dataframe thead th {\n",
       "        text-align: right;\n",
       "    }\n",
       "</style>\n",
       "<table border=\"1\" class=\"dataframe\">\n",
       "  <thead>\n",
       "    <tr style=\"text-align: right;\">\n",
       "      <th></th>\n",
       "      <th>num</th>\n",
       "      <th>nombre</th>\n",
       "      <th>tipo</th>\n",
       "      <th>vida_total</th>\n",
       "      <th>lvl_max</th>\n",
       "      <th>aparicion</th>\n",
       "      <th>descripcion</th>\n",
       "      <th>captura</th>\n",
       "    </tr>\n",
       "  </thead>\n",
       "  <tbody>\n",
       "    <tr>\n",
       "      <th>0</th>\n",
       "      <td>1</td>\n",
       "      <td>BULBASAUR</td>\n",
       "      <td>PLANTA</td>\n",
       "      <td>200</td>\n",
       "      <td>16</td>\n",
       "      <td>0</td>\n",
       "      <td>Este Pokémon nace con una semilla en el lomo. ...</td>\n",
       "      <td>0</td>\n",
       "    </tr>\n",
       "    <tr>\n",
       "      <th>1</th>\n",
       "      <td>4</td>\n",
       "      <td>CHARMANDER</td>\n",
       "      <td>FUEGO</td>\n",
       "      <td>250</td>\n",
       "      <td>16</td>\n",
       "      <td>0</td>\n",
       "      <td>Este Pokémon nace con una llama en la punta de...</td>\n",
       "      <td>0</td>\n",
       "    </tr>\n",
       "    <tr>\n",
       "      <th>2</th>\n",
       "      <td>7</td>\n",
       "      <td>SQUIRTLE</td>\n",
       "      <td>AGUA</td>\n",
       "      <td>300</td>\n",
       "      <td>16</td>\n",
       "      <td>0</td>\n",
       "      <td>Cuando se esconde en el caparazón, dispara agu...</td>\n",
       "      <td>0</td>\n",
       "    </tr>\n",
       "    <tr>\n",
       "      <th>3</th>\n",
       "      <td>10</td>\n",
       "      <td>CATERPIE</td>\n",
       "      <td>BICHO</td>\n",
       "      <td>110</td>\n",
       "      <td>16</td>\n",
       "      <td>3</td>\n",
       "      <td>Tiene la piel de color verde. Cuando la muda, ...</td>\n",
       "      <td>0</td>\n",
       "    </tr>\n",
       "    <tr>\n",
       "      <th>4</th>\n",
       "      <td>13</td>\n",
       "      <td>WEEDLE</td>\n",
       "      <td>VENENO</td>\n",
       "      <td>100</td>\n",
       "      <td>16</td>\n",
       "      <td>3</td>\n",
       "      <td>Suele habitar bosques y praderas. Tiene un afi...</td>\n",
       "      <td>0</td>\n",
       "    </tr>\n",
       "    <tr>\n",
       "      <th>5</th>\n",
       "      <td>16</td>\n",
       "      <td>PIDGEY</td>\n",
       "      <td>VOLADOR</td>\n",
       "      <td>250</td>\n",
       "      <td>16</td>\n",
       "      <td>3</td>\n",
       "      <td>A este Pokémon no le gusta luchar. Suele perma...</td>\n",
       "      <td>0</td>\n",
       "    </tr>\n",
       "    <tr>\n",
       "      <th>6</th>\n",
       "      <td>19</td>\n",
       "      <td>RATTATA</td>\n",
       "      <td>NORMAL</td>\n",
       "      <td>150</td>\n",
       "      <td>32</td>\n",
       "      <td>3</td>\n",
       "      <td>Tiene unos largos y afilados colmillos que no ...</td>\n",
       "      <td>0</td>\n",
       "    </tr>\n",
       "    <tr>\n",
       "      <th>7</th>\n",
       "      <td>25</td>\n",
       "      <td>PIKACHU</td>\n",
       "      <td>ELÉCTRICO</td>\n",
       "      <td>300</td>\n",
       "      <td>32</td>\n",
       "      <td>2</td>\n",
       "      <td>Las bolsas de las mejillas están llenas de ele...</td>\n",
       "      <td>0</td>\n",
       "    </tr>\n",
       "    <tr>\n",
       "      <th>8</th>\n",
       "      <td>64</td>\n",
       "      <td>KADABRA</td>\n",
       "      <td>PSÍQUICO</td>\n",
       "      <td>500</td>\n",
       "      <td>48</td>\n",
       "      <td>2</td>\n",
       "      <td>Cuentan que una mañana, un niño que tenía pode...</td>\n",
       "      <td>0</td>\n",
       "    </tr>\n",
       "    <tr>\n",
       "      <th>9</th>\n",
       "      <td>150</td>\n",
       "      <td>MEWTWO</td>\n",
       "      <td>PSÍQUICO</td>\n",
       "      <td>1700</td>\n",
       "      <td>99</td>\n",
       "      <td>7</td>\n",
       "      <td>Su código genético se recombinó repetidas vece...</td>\n",
       "      <td>0</td>\n",
       "    </tr>\n",
       "  </tbody>\n",
       "</table>\n",
       "</div>"
      ],
      "text/plain": [
       "   num      nombre       tipo  vida_total  lvl_max  aparicion  \\\n",
       "0    1   BULBASAUR     PLANTA         200       16          0   \n",
       "1    4  CHARMANDER      FUEGO         250       16          0   \n",
       "2    7    SQUIRTLE       AGUA         300       16          0   \n",
       "3   10    CATERPIE      BICHO         110       16          3   \n",
       "4   13      WEEDLE     VENENO         100       16          3   \n",
       "5   16      PIDGEY    VOLADOR         250       16          3   \n",
       "6   19     RATTATA     NORMAL         150       32          3   \n",
       "7   25     PIKACHU  ELÉCTRICO         300       32          2   \n",
       "8   64     KADABRA   PSÍQUICO         500       48          2   \n",
       "9  150      MEWTWO   PSÍQUICO        1700       99          7   \n",
       "\n",
       "                                         descripcion  captura  \n",
       "0  Este Pokémon nace con una semilla en el lomo. ...        0  \n",
       "1  Este Pokémon nace con una llama en la punta de...        0  \n",
       "2  Cuando se esconde en el caparazón, dispara agu...        0  \n",
       "3  Tiene la piel de color verde. Cuando la muda, ...        0  \n",
       "4  Suele habitar bosques y praderas. Tiene un afi...        0  \n",
       "5  A este Pokémon no le gusta luchar. Suele perma...        0  \n",
       "6  Tiene unos largos y afilados colmillos que no ...        0  \n",
       "7  Las bolsas de las mejillas están llenas de ele...        0  \n",
       "8  Cuentan que una mañana, un niño que tenía pode...        0  \n",
       "9  Su código genético se recombinó repetidas vece...        0  "
      ]
     },
     "execution_count": 24,
     "metadata": {},
     "output_type": "execute_result"
    }
   ],
   "source": [
    "df"
   ]
  },
  {
   "cell_type": "code",
   "execution_count": 35,
   "id": "3585ea61",
   "metadata": {
    "scrolled": true
   },
   "outputs": [
    {
     "data": {
      "text/html": [
       "<div>\n",
       "<style scoped>\n",
       "    .dataframe tbody tr th:only-of-type {\n",
       "        vertical-align: middle;\n",
       "    }\n",
       "\n",
       "    .dataframe tbody tr th {\n",
       "        vertical-align: top;\n",
       "    }\n",
       "\n",
       "    .dataframe thead th {\n",
       "        text-align: right;\n",
       "    }\n",
       "</style>\n",
       "<table border=\"1\" class=\"dataframe\">\n",
       "  <thead>\n",
       "    <tr style=\"text-align: right;\">\n",
       "      <th></th>\n",
       "      <th>num</th>\n",
       "      <th>nombre</th>\n",
       "      <th>tipo</th>\n",
       "      <th>vida_total</th>\n",
       "      <th>lvl_max</th>\n",
       "      <th>aparicion</th>\n",
       "      <th>descripcion</th>\n",
       "      <th>captura</th>\n",
       "    </tr>\n",
       "  </thead>\n",
       "  <tbody>\n",
       "    <tr>\n",
       "      <th>0</th>\n",
       "      <td>1</td>\n",
       "      <td>BULBASAUR</td>\n",
       "      <td>PLANTA</td>\n",
       "      <td>200</td>\n",
       "      <td>16</td>\n",
       "      <td>0</td>\n",
       "      <td>Este Pokémon nace con una semilla en el lomo. ...</td>\n",
       "      <td>0</td>\n",
       "    </tr>\n",
       "    <tr>\n",
       "      <th>1</th>\n",
       "      <td>4</td>\n",
       "      <td>CHARMANDER</td>\n",
       "      <td>FUEGO</td>\n",
       "      <td>250</td>\n",
       "      <td>16</td>\n",
       "      <td>0</td>\n",
       "      <td>Este Pokémon nace con una llama en la punta de...</td>\n",
       "      <td>1</td>\n",
       "    </tr>\n",
       "    <tr>\n",
       "      <th>2</th>\n",
       "      <td>7</td>\n",
       "      <td>SQUIRTLE</td>\n",
       "      <td>AGUA</td>\n",
       "      <td>300</td>\n",
       "      <td>16</td>\n",
       "      <td>0</td>\n",
       "      <td>Cuando se esconde en el caparazón, dispara agu...</td>\n",
       "      <td>0</td>\n",
       "    </tr>\n",
       "    <tr>\n",
       "      <th>3</th>\n",
       "      <td>10</td>\n",
       "      <td>CATERPIE</td>\n",
       "      <td>BICHO</td>\n",
       "      <td>110</td>\n",
       "      <td>16</td>\n",
       "      <td>3</td>\n",
       "      <td>Tiene la piel de color verde. Cuando la muda, ...</td>\n",
       "      <td>0</td>\n",
       "    </tr>\n",
       "    <tr>\n",
       "      <th>4</th>\n",
       "      <td>13</td>\n",
       "      <td>WEEDLE</td>\n",
       "      <td>VENENO</td>\n",
       "      <td>100</td>\n",
       "      <td>16</td>\n",
       "      <td>3</td>\n",
       "      <td>Suele habitar bosques y praderas. Tiene un afi...</td>\n",
       "      <td>0</td>\n",
       "    </tr>\n",
       "    <tr>\n",
       "      <th>5</th>\n",
       "      <td>16</td>\n",
       "      <td>PIDGEY</td>\n",
       "      <td>VOLADOR</td>\n",
       "      <td>250</td>\n",
       "      <td>16</td>\n",
       "      <td>3</td>\n",
       "      <td>A este Pokémon no le gusta luchar. Suele perma...</td>\n",
       "      <td>0</td>\n",
       "    </tr>\n",
       "    <tr>\n",
       "      <th>6</th>\n",
       "      <td>19</td>\n",
       "      <td>RATTATA</td>\n",
       "      <td>NORMAL</td>\n",
       "      <td>150</td>\n",
       "      <td>32</td>\n",
       "      <td>3</td>\n",
       "      <td>Tiene unos largos y afilados colmillos que no ...</td>\n",
       "      <td>0</td>\n",
       "    </tr>\n",
       "    <tr>\n",
       "      <th>7</th>\n",
       "      <td>25</td>\n",
       "      <td>PIKACHU</td>\n",
       "      <td>ELÉCTRICO</td>\n",
       "      <td>300</td>\n",
       "      <td>32</td>\n",
       "      <td>2</td>\n",
       "      <td>Las bolsas de las mejillas están llenas de ele...</td>\n",
       "      <td>0</td>\n",
       "    </tr>\n",
       "    <tr>\n",
       "      <th>8</th>\n",
       "      <td>64</td>\n",
       "      <td>KADABRA</td>\n",
       "      <td>PSÍQUICO</td>\n",
       "      <td>500</td>\n",
       "      <td>48</td>\n",
       "      <td>2</td>\n",
       "      <td>Cuentan que una mañana, un niño que tenía pode...</td>\n",
       "      <td>0</td>\n",
       "    </tr>\n",
       "    <tr>\n",
       "      <th>9</th>\n",
       "      <td>150</td>\n",
       "      <td>MEWTWO</td>\n",
       "      <td>PSÍQUICO</td>\n",
       "      <td>1700</td>\n",
       "      <td>99</td>\n",
       "      <td>7</td>\n",
       "      <td>Su código genético se recombinó repetidas vece...</td>\n",
       "      <td>0</td>\n",
       "    </tr>\n",
       "  </tbody>\n",
       "</table>\n",
       "</div>"
      ],
      "text/plain": [
       "   num      nombre       tipo  vida_total  lvl_max  aparicion  \\\n",
       "0    1   BULBASAUR     PLANTA         200       16          0   \n",
       "1    4  CHARMANDER      FUEGO         250       16          0   \n",
       "2    7    SQUIRTLE       AGUA         300       16          0   \n",
       "3   10    CATERPIE      BICHO         110       16          3   \n",
       "4   13      WEEDLE     VENENO         100       16          3   \n",
       "5   16      PIDGEY    VOLADOR         250       16          3   \n",
       "6   19     RATTATA     NORMAL         150       32          3   \n",
       "7   25     PIKACHU  ELÉCTRICO         300       32          2   \n",
       "8   64     KADABRA   PSÍQUICO         500       48          2   \n",
       "9  150      MEWTWO   PSÍQUICO        1700       99          7   \n",
       "\n",
       "                                         descripcion  captura  \n",
       "0  Este Pokémon nace con una semilla en el lomo. ...        0  \n",
       "1  Este Pokémon nace con una llama en la punta de...        1  \n",
       "2  Cuando se esconde en el caparazón, dispara agu...        0  \n",
       "3  Tiene la piel de color verde. Cuando la muda, ...        0  \n",
       "4  Suele habitar bosques y praderas. Tiene un afi...        0  \n",
       "5  A este Pokémon no le gusta luchar. Suele perma...        0  \n",
       "6  Tiene unos largos y afilados colmillos que no ...        0  \n",
       "7  Las bolsas de las mejillas están llenas de ele...        0  \n",
       "8  Cuentan que una mañana, un niño que tenía pode...        0  \n",
       "9  Su código genético se recombinó repetidas vece...        0  "
      ]
     },
     "execution_count": 35,
     "metadata": {},
     "output_type": "execute_result"
    }
   ],
   "source": [
    "ndf=pd.read_json('pokedex.json')\n",
    "ndf"
   ]
  },
  {
   "cell_type": "code",
   "execution_count": 43,
   "id": "0d97a27a",
   "metadata": {},
   "outputs": [
    {
     "data": {
      "text/plain": [
       "'MEWTWO'"
      ]
     },
     "execution_count": 43,
     "metadata": {},
     "output_type": "execute_result"
    }
   ],
   "source": [
    "ndf.set_index(\"num\", inplace=True)\n",
    "print(ndf)\n",
    "print(ndf.loc[7,\"nombre\"])\n",
    "ndf.reset_index(inplace=True)"
   ]
  },
  {
   "cell_type": "code",
   "execution_count": 30,
   "id": "1c8f22e7",
   "metadata": {},
   "outputs": [],
   "source": [
    "ndf.reset_index(inplace=True)\n"
   ]
  },
  {
   "cell_type": "code",
   "execution_count": null,
   "id": "9f1e31bd",
   "metadata": {},
   "outputs": [],
   "source": []
  }
 ],
 "metadata": {
  "kernelspec": {
   "display_name": "Python 3 (ipykernel)",
   "language": "python",
   "name": "python3"
  },
  "language_info": {
   "codemirror_mode": {
    "name": "ipython",
    "version": 3
   },
   "file_extension": ".py",
   "mimetype": "text/x-python",
   "name": "python",
   "nbconvert_exporter": "python",
   "pygments_lexer": "ipython3",
   "version": "3.9.10"
  }
 },
 "nbformat": 4,
 "nbformat_minor": 5
}
