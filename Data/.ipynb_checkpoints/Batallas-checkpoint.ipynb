{
 "cells": [
  {
   "cell_type": "markdown",
   "id": "789ce8c2",
   "metadata": {},
   "source": [
    "# Creación de Data Frame y JSON de Batallas"
   ]
  },
  {
   "cell_type": "markdown",
   "id": "12896109",
   "metadata": {},
   "source": [
    "Importación de Librería Pandas"
   ]
  },
  {
   "cell_type": "code",
   "execution_count": 1,
   "id": "a63f03f4",
   "metadata": {},
   "outputs": [],
   "source": [
    "import pandas as pd"
   ]
  },
  {
   "cell_type": "markdown",
   "id": "207327bb",
   "metadata": {},
   "source": [
    "Creación de arreglo batallas y declaración de Data Frame"
   ]
  },
  {
   "cell_type": "code",
   "execution_count": 2,
   "id": "893e4091",
   "metadata": {},
   "outputs": [],
   "source": [
    "batallas = {\n",
    "    \"id\":[],\n",
    "    \"pokemon\":[],\n",
    "    \"lvl_inicial\":[],\n",
    "    \"lvl_final\":[]\n",
    "}\n",
    "df = pd.DataFrame(batallas)"
   ]
  },
  {
   "cell_type": "markdown",
   "id": "9501f636",
   "metadata": {},
   "source": [
    "Exportación de Data Frame a Json"
   ]
  },
  {
   "cell_type": "code",
   "execution_count": 4,
   "id": "65127f37",
   "metadata": {},
   "outputs": [],
   "source": [
    "df.to_json('batallas.json')"
   ]
  },
  {
   "cell_type": "markdown",
   "id": "6f69cdcf",
   "metadata": {},
   "source": [
    "Visualización de Data Frame Final"
   ]
  },
  {
   "cell_type": "code",
   "execution_count": 5,
   "id": "fc850fcd",
   "metadata": {},
   "outputs": [
    {
     "data": {
      "text/html": [
       "<div>\n",
       "<style scoped>\n",
       "    .dataframe tbody tr th:only-of-type {\n",
       "        vertical-align: middle;\n",
       "    }\n",
       "\n",
       "    .dataframe tbody tr th {\n",
       "        vertical-align: top;\n",
       "    }\n",
       "\n",
       "    .dataframe thead th {\n",
       "        text-align: right;\n",
       "    }\n",
       "</style>\n",
       "<table border=\"1\" class=\"dataframe\">\n",
       "  <thead>\n",
       "    <tr style=\"text-align: right;\">\n",
       "      <th></th>\n",
       "      <th>id</th>\n",
       "      <th>pokemon</th>\n",
       "      <th>lvl_inicial</th>\n",
       "      <th>lvl_final</th>\n",
       "    </tr>\n",
       "  </thead>\n",
       "  <tbody>\n",
       "  </tbody>\n",
       "</table>\n",
       "</div>"
      ],
      "text/plain": [
       "Empty DataFrame\n",
       "Columns: [id, pokemon, lvl_inicial, lvl_final]\n",
       "Index: []"
      ]
     },
     "execution_count": 5,
     "metadata": {},
     "output_type": "execute_result"
    }
   ],
   "source": [
    "df"
   ]
  },
  {
   "cell_type": "code",
   "execution_count": null,
   "id": "e67b97d2",
   "metadata": {},
   "outputs": [],
   "source": []
  }
 ],
 "metadata": {
  "kernelspec": {
   "display_name": "Python 3 (ipykernel)",
   "language": "python",
   "name": "python3"
  },
  "language_info": {
   "codemirror_mode": {
    "name": "ipython",
    "version": 3
   },
   "file_extension": ".py",
   "mimetype": "text/x-python",
   "name": "python",
   "nbconvert_exporter": "python",
   "pygments_lexer": "ipython3",
   "version": "3.9.10"
  }
 },
 "nbformat": 4,
 "nbformat_minor": 5
}
