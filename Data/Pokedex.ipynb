{
 "cells": [
  {
   "cell_type": "markdown",
   "id": "cb3ecc41",
   "metadata": {},
   "source": [
    "# Creación de Data Frame y JSON de Pokedex"
   ]
  },
  {
   "cell_type": "markdown",
   "id": "53965ced",
   "metadata": {},
   "source": [
    "Importación de Librería Pandas"
   ]
  },
  {
   "cell_type": "code",
   "execution_count": 155,
   "id": "efa584c3",
   "metadata": {},
   "outputs": [],
   "source": [
    "import pandas as pd"
   ]
  },
  {
   "cell_type": "markdown",
   "id": "36e8bf93",
   "metadata": {},
   "source": [
    "Creación de arreglo con los primeros 6 pokemones y declaración de Data Frame"
   ]
  },
  {
   "cell_type": "code",
   "execution_count": 156,
   "id": "1f53f466",
   "metadata": {},
   "outputs": [],
   "source": [
    "pokedex = {\n",
    "    \"num\":[1,4,7],\n",
    "    \"nombre\":[\"Bulbasaur\", \"Charmander\", \"Squirtle\"],\n",
    "    \"tipo\":[\"Planta-Veneno\", \"Fuego\", \"Agua\"],\n",
    "    \"vida_total\":[200,250,300],\n",
    "    \"lvl_max\":[16,16,16],\n",
    "    \"aparicion\":[0,0,0],\n",
    "    \"descripcion\":\n",
    "        [\n",
    "        \"Este Pokémon nace con una semilla en el lomo. Con el tiempo, la semilla brota.\",\n",
    "        \"Este Pokémon nace con una llama en la punta de la cola. Si la llama se apagara, el Pokémon se debilitaría.\",\n",
    "        \"Cuando se esconde en el caparazón, dispara agua a una presión increíble.\", \n",
    "        ]\n",
    "}\n",
    "df = pd.DataFrame(pokedex)"
   ]
  },
  {
   "cell_type": "markdown",
   "id": "ccaf7f5a",
   "metadata": {},
   "source": [
    "Concatenación del resto de pokemones al Data Frame principal"
   ]
  },
  {
   "cell_type": "code",
   "execution_count": 157,
   "id": "76b17644",
   "metadata": {},
   "outputs": [],
   "source": [
    "pokemon = pd.DataFrame({'num':[10], 'nombre':[\"Caterpie\"], 'tipo':[\"Bicho\"], 'vida_total':[110], 'lvl_max':[16], \"aparicion\":[3], \"descripcion\":[\"Tiene la piel de color verde. Cuando la muda, se recubre de seda y se convierte en capullo.\"]})\n",
    "df=pd.concat([df,pokemon],ignore_index=True)"
   ]
  },
  {
   "cell_type": "code",
   "execution_count": 158,
   "id": "2e28349a",
   "metadata": {},
   "outputs": [],
   "source": [
    "pokemon = pd.DataFrame({'num':[13], 'nombre':[\"Weedle\"], 'tipo':[\"Bicho-Veneno\"], 'vida_total':[100], 'lvl_max':[16], \"aparicion\":[3], \"descripcion\":[\"Suele habitar bosques y praderas. Tiene un afilado y venenoso aguijón de unos 5 cm encima de la cabeza.\"]})\n",
    "df=pd.concat([df,pokemon],ignore_index=True)"
   ]
  },
  {
   "cell_type": "code",
   "execution_count": 159,
   "id": "b98944e1",
   "metadata": {},
   "outputs": [],
   "source": [
    "pokemon = pd.DataFrame({'num':[16], 'nombre':[\"Pidgey\"], 'tipo':[\"Normal-Volador\"], 'vida_total':[250], 'lvl_max':[16], \"aparicion\":[3], \"descripcion\":[\"A este Pokémon no le gusta luchar. Suele permanecer escondido en zonas de hierba alta. Se alimenta de pequeños insectos.\"]})\n",
    "df=pd.concat([df,pokemon],ignore_index=True)"
   ]
  },
  {
   "cell_type": "code",
   "execution_count": 160,
   "id": "11bd0f1f",
   "metadata": {},
   "outputs": [],
   "source": [
    "pokemon = pd.DataFrame({'num':[19], 'nombre':[\"Rattata\"], 'tipo':[\"Normal\"], 'vida_total':[150], 'lvl_max':[32], \"aparicion\":[3], \"descripcion\":[\"Tiene unos largos y afilados colmillos que no dejan de crecer. Le resultan muy útiles para destruir cosas.\"]})\n",
    "df=pd.concat([df,pokemon],ignore_index=True)"
   ]
  },
  {
   "cell_type": "code",
   "execution_count": 161,
   "id": "81bf8a2c",
   "metadata": {},
   "outputs": [],
   "source": [
    "pokemon = pd.DataFrame({'num':[25], 'nombre':[\"Pikachu\"], 'tipo':[\"Eléctrico\"], 'vida_total':[300], 'lvl_max':[32], \"aparicion\":[2], \"descripcion\":[\"Las bolsas de las mejillas están llenas de electricidad, que libera cuando se siente amenazado.\"]})\n",
    "df=pd.concat([df,pokemon],ignore_index=True)"
   ]
  },
  {
   "cell_type": "code",
   "execution_count": 162,
   "id": "5d942130",
   "metadata": {},
   "outputs": [],
   "source": [
    "pokemon = pd.DataFrame({'num':[64], 'nombre':['Kadabra'], 'tipo':['Psíquico'], 'vida_total':[500], 'lvl_max':[48], \"aparicion\":[2], \"descripcion\":[\"Cuentan que una mañana, un niño que tenía poderes extrasensoriales, se despertó convertido en Kadabra.\"]})\n",
    "df=pd.concat([df,pokemon],ignore_index=True)"
   ]
  },
  {
   "cell_type": "code",
   "execution_count": 163,
   "id": "068aa83f",
   "metadata": {},
   "outputs": [],
   "source": [
    "pokemon = pd.DataFrame({'num':[150], 'nombre':['Mewtwo'], 'tipo':['Psíquico'], 'vida_total':[1700], 'lvl_max':[99], \"aparicion\":[7], \"descripcion\":[\"Su código genético se recombinó repetidas veces por motivos científicos y el resultado fue este curioso Pokémon.\"]})\n",
    "df=pd.concat([df,pokemon],ignore_index=True)\n"
   ]
  },
  {
   "cell_type": "markdown",
   "id": "9b5c741b",
   "metadata": {},
   "source": [
    "Creación de columna extra para definir que ningún pokemon está capturado"
   ]
  },
  {
   "cell_type": "code",
   "execution_count": 164,
   "id": "611b91d0",
   "metadata": {},
   "outputs": [],
   "source": [
    "df['captura']=0"
   ]
  },
  {
   "cell_type": "markdown",
   "id": "ffab9008",
   "metadata": {},
   "source": [
    "Definición de la columna num como índice"
   ]
  },
  {
   "cell_type": "code",
   "execution_count": 165,
   "id": "eafcd4bb",
   "metadata": {},
   "outputs": [],
   "source": [
    "df.set_index('num', inplace=True)"
   ]
  },
  {
   "cell_type": "markdown",
   "id": "54b6db59",
   "metadata": {},
   "source": [
    "Exportación de Data Frame a Json"
   ]
  },
  {
   "cell_type": "code",
   "execution_count": 166,
   "id": "189d0f2a",
   "metadata": {},
   "outputs": [],
   "source": [
    "df.to_json('pokedex.json')"
   ]
  },
  {
   "cell_type": "markdown",
   "id": "d909558d",
   "metadata": {},
   "source": [
    "Visualización de Data Frame Final"
   ]
  },
  {
   "cell_type": "code",
   "execution_count": 167,
   "id": "0633f96d",
   "metadata": {
    "scrolled": true
   },
   "outputs": [
    {
     "data": {
      "text/html": [
       "<div>\n",
       "<style scoped>\n",
       "    .dataframe tbody tr th:only-of-type {\n",
       "        vertical-align: middle;\n",
       "    }\n",
       "\n",
       "    .dataframe tbody tr th {\n",
       "        vertical-align: top;\n",
       "    }\n",
       "\n",
       "    .dataframe thead th {\n",
       "        text-align: right;\n",
       "    }\n",
       "</style>\n",
       "<table border=\"1\" class=\"dataframe\">\n",
       "  <thead>\n",
       "    <tr style=\"text-align: right;\">\n",
       "      <th></th>\n",
       "      <th>nombre</th>\n",
       "      <th>tipo</th>\n",
       "      <th>vida_total</th>\n",
       "      <th>lvl_max</th>\n",
       "      <th>aparicion</th>\n",
       "      <th>descripcion</th>\n",
       "      <th>captura</th>\n",
       "    </tr>\n",
       "    <tr>\n",
       "      <th>num</th>\n",
       "      <th></th>\n",
       "      <th></th>\n",
       "      <th></th>\n",
       "      <th></th>\n",
       "      <th></th>\n",
       "      <th></th>\n",
       "      <th></th>\n",
       "    </tr>\n",
       "  </thead>\n",
       "  <tbody>\n",
       "    <tr>\n",
       "      <th>1</th>\n",
       "      <td>Bulbasaur</td>\n",
       "      <td>Planta-Veneno</td>\n",
       "      <td>200</td>\n",
       "      <td>16</td>\n",
       "      <td>0</td>\n",
       "      <td>Este Pokémon nace con una semilla en el lomo. ...</td>\n",
       "      <td>0</td>\n",
       "    </tr>\n",
       "    <tr>\n",
       "      <th>4</th>\n",
       "      <td>Charmander</td>\n",
       "      <td>Fuego</td>\n",
       "      <td>250</td>\n",
       "      <td>16</td>\n",
       "      <td>0</td>\n",
       "      <td>Este Pokémon nace con una llama en la punta de...</td>\n",
       "      <td>0</td>\n",
       "    </tr>\n",
       "    <tr>\n",
       "      <th>7</th>\n",
       "      <td>Squirtle</td>\n",
       "      <td>Agua</td>\n",
       "      <td>300</td>\n",
       "      <td>16</td>\n",
       "      <td>0</td>\n",
       "      <td>Cuando se esconde en el caparazón, dispara agu...</td>\n",
       "      <td>0</td>\n",
       "    </tr>\n",
       "    <tr>\n",
       "      <th>10</th>\n",
       "      <td>Caterpie</td>\n",
       "      <td>Bicho</td>\n",
       "      <td>110</td>\n",
       "      <td>16</td>\n",
       "      <td>3</td>\n",
       "      <td>Tiene la piel de color verde. Cuando la muda, ...</td>\n",
       "      <td>0</td>\n",
       "    </tr>\n",
       "    <tr>\n",
       "      <th>13</th>\n",
       "      <td>Weedle</td>\n",
       "      <td>Bicho-Veneno</td>\n",
       "      <td>100</td>\n",
       "      <td>16</td>\n",
       "      <td>3</td>\n",
       "      <td>Suele habitar bosques y praderas. Tiene un afi...</td>\n",
       "      <td>0</td>\n",
       "    </tr>\n",
       "    <tr>\n",
       "      <th>16</th>\n",
       "      <td>Pidgey</td>\n",
       "      <td>Normal-Volador</td>\n",
       "      <td>250</td>\n",
       "      <td>16</td>\n",
       "      <td>3</td>\n",
       "      <td>A este Pokémon no le gusta luchar. Suele perma...</td>\n",
       "      <td>0</td>\n",
       "    </tr>\n",
       "    <tr>\n",
       "      <th>19</th>\n",
       "      <td>Rattata</td>\n",
       "      <td>Normal</td>\n",
       "      <td>150</td>\n",
       "      <td>32</td>\n",
       "      <td>3</td>\n",
       "      <td>Tiene unos largos y afilados colmillos que no ...</td>\n",
       "      <td>0</td>\n",
       "    </tr>\n",
       "    <tr>\n",
       "      <th>25</th>\n",
       "      <td>Pikachu</td>\n",
       "      <td>Eléctrico</td>\n",
       "      <td>300</td>\n",
       "      <td>32</td>\n",
       "      <td>2</td>\n",
       "      <td>Las bolsas de las mejillas están llenas de ele...</td>\n",
       "      <td>0</td>\n",
       "    </tr>\n",
       "    <tr>\n",
       "      <th>64</th>\n",
       "      <td>Kadabra</td>\n",
       "      <td>Psíquico</td>\n",
       "      <td>500</td>\n",
       "      <td>48</td>\n",
       "      <td>2</td>\n",
       "      <td>Cuentan que una mañana, un niño que tenía pode...</td>\n",
       "      <td>0</td>\n",
       "    </tr>\n",
       "    <tr>\n",
       "      <th>150</th>\n",
       "      <td>Mewtwo</td>\n",
       "      <td>Psíquico</td>\n",
       "      <td>1700</td>\n",
       "      <td>99</td>\n",
       "      <td>7</td>\n",
       "      <td>Su código genético se recombinó repetidas vece...</td>\n",
       "      <td>0</td>\n",
       "    </tr>\n",
       "  </tbody>\n",
       "</table>\n",
       "</div>"
      ],
      "text/plain": [
       "         nombre            tipo  vida_total  lvl_max  aparicion  \\\n",
       "num                                                               \n",
       "1     Bulbasaur   Planta-Veneno         200       16          0   \n",
       "4    Charmander           Fuego         250       16          0   \n",
       "7      Squirtle            Agua         300       16          0   \n",
       "10     Caterpie           Bicho         110       16          3   \n",
       "13       Weedle    Bicho-Veneno         100       16          3   \n",
       "16       Pidgey  Normal-Volador         250       16          3   \n",
       "19      Rattata          Normal         150       32          3   \n",
       "25      Pikachu       Eléctrico         300       32          2   \n",
       "64      Kadabra        Psíquico         500       48          2   \n",
       "150      Mewtwo        Psíquico        1700       99          7   \n",
       "\n",
       "                                           descripcion  captura  \n",
       "num                                                              \n",
       "1    Este Pokémon nace con una semilla en el lomo. ...        0  \n",
       "4    Este Pokémon nace con una llama en la punta de...        0  \n",
       "7    Cuando se esconde en el caparazón, dispara agu...        0  \n",
       "10   Tiene la piel de color verde. Cuando la muda, ...        0  \n",
       "13   Suele habitar bosques y praderas. Tiene un afi...        0  \n",
       "16   A este Pokémon no le gusta luchar. Suele perma...        0  \n",
       "19   Tiene unos largos y afilados colmillos que no ...        0  \n",
       "25   Las bolsas de las mejillas están llenas de ele...        0  \n",
       "64   Cuentan que una mañana, un niño que tenía pode...        0  \n",
       "150  Su código genético se recombinó repetidas vece...        0  "
      ]
     },
     "execution_count": 167,
     "metadata": {},
     "output_type": "execute_result"
    }
   ],
   "source": [
    "df"
   ]
  }
 ],
 "metadata": {
  "kernelspec": {
   "display_name": "Python 3 (ipykernel)",
   "language": "python",
   "name": "python3"
  },
  "language_info": {
   "codemirror_mode": {
    "name": "ipython",
    "version": 3
   },
   "file_extension": ".py",
   "mimetype": "text/x-python",
   "name": "python",
   "nbconvert_exporter": "python",
   "pygments_lexer": "ipython3",
   "version": "3.9.10"
  }
 },
 "nbformat": 4,
 "nbformat_minor": 5
}
