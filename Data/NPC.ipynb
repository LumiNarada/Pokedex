{
 "cells": [
  {
   "cell_type": "markdown",
   "id": "2d291c92",
   "metadata": {},
   "source": [
    "# Creación de Data Frame y JSON de NPC's para pelear\n",
    "## (Non Playable Character)"
   ]
  },
  {
   "cell_type": "markdown",
   "id": "ce4e3399",
   "metadata": {},
   "source": [
    "Importación de Librería Pandas"
   ]
  },
  {
   "cell_type": "code",
   "execution_count": 34,
   "id": "4c59248a",
   "metadata": {},
   "outputs": [],
   "source": [
    "import pandas as pd"
   ]
  },
  {
   "cell_type": "markdown",
   "id": "7d0d1b1a",
   "metadata": {},
   "source": [
    "Creación de arreglo con de npc y declaración de Data Frame"
   ]
  },
  {
   "cell_type": "code",
   "execution_count": 35,
   "id": "2b37e8a3",
   "metadata": {},
   "outputs": [],
   "source": [
    "npc= {\n",
    "    \"entrenador\":[],\n",
    "    \"num_Pokemon\":[],\n",
    "    \"lvl_Pokemon\":[],\n",
    "    \"dialogo\":[],\n",
    "}\n",
    "df = pd.DataFrame(npc)"
   ]
  },
  {
   "cell_type": "markdown",
   "id": "799c3cf0",
   "metadata": {},
   "source": [
    "Concatenación del resto de npc´s al Data Frame principal"
   ]
  },
  {
   "cell_type": "code",
   "execution_count": 36,
   "id": "d56d2669",
   "metadata": {},
   "outputs": [],
   "source": [
    "personaje = pd.DataFrame({'entrenador':[\"Misty\"], \"num_Pokemon\":[4],\"lvl_Pokemon\":[16], \"dialogo\":[\"¡Así que has decidio enfrentarte a la mejor entrenadora de pokemones tipo agua!\\n¡Te aviso que no ganarás!\"]})\n",
    "df=pd.concat([df,personaje],ignore_index=True)"
   ]
  },
  {
   "cell_type": "markdown",
   "id": "c7dd4cc9",
   "metadata": {},
   "source": [
    "Definición de la columna Entrenador como índice"
   ]
  },
  {
   "cell_type": "code",
   "execution_count": 37,
   "id": "04a68ae5",
   "metadata": {},
   "outputs": [],
   "source": [
    "df.set_index('entrenador', inplace=True)"
   ]
  },
  {
   "cell_type": "markdown",
   "id": "3fcd53a4",
   "metadata": {},
   "source": [
    "Exportación de Data Frame a Json"
   ]
  },
  {
   "cell_type": "code",
   "execution_count": 38,
   "id": "b80e2658",
   "metadata": {},
   "outputs": [],
   "source": [
    "df.to_json('npc.json')"
   ]
  },
  {
   "cell_type": "markdown",
   "id": "f8927f9a",
   "metadata": {},
   "source": [
    "Conversion de columna Float a Int"
   ]
  },
  {
   "cell_type": "code",
   "execution_count": 39,
   "id": "a49195a0",
   "metadata": {},
   "outputs": [],
   "source": [
    "df['num_Pokemon'] = df['num_Pokemon'].astype(int)\n",
    "df['lvl_Pokemon'] = df['lvl_Pokemon'].astype(int)"
   ]
  },
  {
   "cell_type": "markdown",
   "id": "cb4e1c22",
   "metadata": {},
   "source": [
    "Visualización de Data Frame Final"
   ]
  },
  {
   "cell_type": "code",
   "execution_count": 40,
   "id": "f804fd4e",
   "metadata": {},
   "outputs": [
    {
     "data": {
      "text/html": [
       "<div>\n",
       "<style scoped>\n",
       "    .dataframe tbody tr th:only-of-type {\n",
       "        vertical-align: middle;\n",
       "    }\n",
       "\n",
       "    .dataframe tbody tr th {\n",
       "        vertical-align: top;\n",
       "    }\n",
       "\n",
       "    .dataframe thead th {\n",
       "        text-align: right;\n",
       "    }\n",
       "</style>\n",
       "<table border=\"1\" class=\"dataframe\">\n",
       "  <thead>\n",
       "    <tr style=\"text-align: right;\">\n",
       "      <th></th>\n",
       "      <th>num_Pokemon</th>\n",
       "      <th>lvl_Pokemon</th>\n",
       "      <th>dialogo</th>\n",
       "    </tr>\n",
       "    <tr>\n",
       "      <th>entrenador</th>\n",
       "      <th></th>\n",
       "      <th></th>\n",
       "      <th></th>\n",
       "    </tr>\n",
       "  </thead>\n",
       "  <tbody>\n",
       "    <tr>\n",
       "      <th>Misty</th>\n",
       "      <td>4</td>\n",
       "      <td>16</td>\n",
       "      <td>¡Así que has decidio enfrentarte a la mejor en...</td>\n",
       "    </tr>\n",
       "  </tbody>\n",
       "</table>\n",
       "</div>"
      ],
      "text/plain": [
       "            num_Pokemon  lvl_Pokemon  \\\n",
       "entrenador                             \n",
       "Misty                 4           16   \n",
       "\n",
       "                                                      dialogo  \n",
       "entrenador                                                     \n",
       "Misty       ¡Así que has decidio enfrentarte a la mejor en...  "
      ]
     },
     "execution_count": 40,
     "metadata": {},
     "output_type": "execute_result"
    }
   ],
   "source": [
    "df"
   ]
  }
 ],
 "metadata": {
  "kernelspec": {
   "display_name": "Python 3 (ipykernel)",
   "language": "python",
   "name": "python3"
  },
  "language_info": {
   "codemirror_mode": {
    "name": "ipython",
    "version": 3
   },
   "file_extension": ".py",
   "mimetype": "text/x-python",
   "name": "python",
   "nbconvert_exporter": "python",
   "pygments_lexer": "ipython3",
   "version": "3.9.10"
  }
 },
 "nbformat": 4,
 "nbformat_minor": 5
}
