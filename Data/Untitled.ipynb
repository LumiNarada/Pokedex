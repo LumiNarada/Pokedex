{
 "cells": [
  {
   "cell_type": "code",
   "execution_count": 1,
   "id": "efa584c3",
   "metadata": {},
   "outputs": [],
   "source": [
    "import pandas as pd"
   ]
  },
  {
   "cell_type": "code",
   "execution_count": null,
   "id": "1f53f466",
   "metadata": {},
   "outputs": [],
   "source": [
    "pokemon = {\n",
    "    \"nombre\":[\"Picachu\", \"Jigglypuff\", \"Mojonix\"],\n",
    "    \"entrenador\":[\"Ash Ketchum\", \"Ash & Jessey\", \"Bruck\"],\n",
    "    \"tipo\":[\"Electrico\", \"Hada\", \"Roca\"],\n",
    "    \"vida\":[150, 50, 300]\n",
    "}"
   ]
  }
 ],
 "metadata": {
  "kernelspec": {
   "display_name": "Python 3 (ipykernel)",
   "language": "python",
   "name": "python3"
  },
  "language_info": {
   "codemirror_mode": {
    "name": "ipython",
    "version": 3
   },
   "file_extension": ".py",
   "mimetype": "text/x-python",
   "name": "python",
   "nbconvert_exporter": "python",
   "pygments_lexer": "ipython3",
   "version": "3.9.10"
  }
 },
 "nbformat": 4,
 "nbformat_minor": 5
}
