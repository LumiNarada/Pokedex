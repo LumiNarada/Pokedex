{
 "cells": [
  {
   "cell_type": "markdown",
   "id": "37881c7c",
   "metadata": {},
   "source": [
    "# Creación de Data Frame y JSON de Ataques"
   ]
  },
  {
   "cell_type": "markdown",
   "id": "b5c99f07",
   "metadata": {},
   "source": [
    "Importación de Librería Pandas"
   ]
  },
  {
   "cell_type": "code",
   "execution_count": 4,
   "id": "6a7458b1",
   "metadata": {},
   "outputs": [],
   "source": [
    "import pandas as pd\n",
    "import numpy as np\n",
    "import random"
   ]
  },
  {
   "cell_type": "markdown",
   "id": "8e9e93e3",
   "metadata": {},
   "source": [
    "Creación de arreglo de ataque y declaración de Data Frame"
   ]
  },
  {
   "cell_type": "code",
   "execution_count": 5,
   "id": "ffe03a0c",
   "metadata": {},
   "outputs": [],
   "source": [
    "ataques = {\n",
    "    \"nombre\":[],\n",
    "    \"tipo\":[],\n",
    "    \"lvl_aprendizaje\":[],\n",
    "    \"daño\":[],\n",
    "}\n",
    "df = pd.DataFrame(ataques)"
   ]
  },
  {
   "cell_type": "markdown",
   "id": "16c3a506",
   "metadata": {},
   "source": [
    "Concatenación ataques al Data Frame principal"
   ]
  },
  {
   "cell_type": "code",
   "execution_count": 6,
   "id": "939e2e0e",
   "metadata": {},
   "outputs": [],
   "source": [
    "def añadir(nombre, tipo, nivel, daño, df):\n",
    "    ataque = pd.DataFrame({'nombre':[nombre], \"tipo\":[tipo],\"lvl_aprendizaje\":[nivel],\"daño\":[daño]})\n",
    "    df=pd.concat([df,ataque],ignore_index=True)\n",
    "    return df"
   ]
  },
  {
   "cell_type": "markdown",
   "id": "2f8a4006",
   "metadata": {},
   "source": [
    "Normal"
   ]
  },
  {
   "cell_type": "code",
   "execution_count": 7,
   "id": "fe6b63e3",
   "metadata": {},
   "outputs": [],
   "source": [
    "normal=[\n",
    "    [\"Embestida\", 1, 1],\n",
    "    [\"Portazo\", 10, 2],\n",
    "    [\"Arañazo\", 16, 3],\n",
    "    [\"Ataques Furia\", 20, 4],\n",
    "    [\"Malicioso\", 30, 5],\n",
    "    [\"Doble Filo\", 40, 6]\n",
    "]"
   ]
  },
  {
   "cell_type": "code",
   "execution_count": 8,
   "id": "e50b45fc",
   "metadata": {},
   "outputs": [],
   "source": [
    "for ataque in normal:\n",
    "    df=añadir(ataque[0], \"normal\", ataque[1], ataque[2], df)"
   ]
  },
  {
   "cell_type": "markdown",
   "id": "510a5efc",
   "metadata": {},
   "source": [
    "Planta"
   ]
  },
  {
   "cell_type": "code",
   "execution_count": 9,
   "id": "75504c79",
   "metadata": {},
   "outputs": [],
   "source": [
    "planta=[\n",
    "    [\"Espora\", 1, 1],\n",
    "    [\"Látigo Cepa\", 10, 2],\n",
    "    [\"Absorber\", 12, 3],\n",
    "    [\"Arraigo\", 25, 4],\n",
    "    [\"Gigadrenado\", 32, 5],\n",
    "    [\"Danza Petalo\", 45, 6]\n",
    "]"
   ]
  },
  {
   "cell_type": "code",
   "execution_count": 10,
   "id": "6fb5e3b4",
   "metadata": {},
   "outputs": [],
   "source": [
    "for ataque in planta:\n",
    "    df=añadir(ataque[0], \"planta\", ataque[1], ataque[2], df)"
   ]
  },
  {
   "cell_type": "markdown",
   "id": "dfe04f60",
   "metadata": {},
   "source": [
    "Fuego"
   ]
  },
  {
   "cell_type": "code",
   "execution_count": 11,
   "id": "b2c330ff",
   "metadata": {},
   "outputs": [],
   "source": [
    "fuego=[\n",
    "    [\"Patada Ígnea\", 1, 1],\n",
    "    [\"Sofoco\", 12, 2],\n",
    "    [\"Onda Ígnea\", 20, 3],\n",
    "    [\"Fuegosagrado\", 26, 4],\n",
    "    [\"Día Soleado\", 32, 5],\n",
    "    [\"Anillo Ígneo\", 46, 6],\n",
    "]"
   ]
  },
  {
   "cell_type": "code",
   "execution_count": 12,
   "id": "6b052d4c",
   "metadata": {},
   "outputs": [],
   "source": [
    "for ataque in fuego:\n",
    "    df=añadir(ataque[0], \"fuego\", ataque[1], ataque[2], df)"
   ]
  },
  {
   "cell_type": "markdown",
   "id": "d9acd6cb",
   "metadata": {},
   "source": [
    "Agua"
   ]
  },
  {
   "cell_type": "code",
   "execution_count": 13,
   "id": "3a916c97",
   "metadata": {},
   "outputs": [],
   "source": [
    "agua=[\n",
    "    [\"Pistola Agua\", 1, 1],\n",
    "    [\"Tenaza\", 8, 2],\n",
    "    [\"Hidro Bomba\", 18, 3],\n",
    "    [\"Rayo Burbuja\", 30, 4],\n",
    "    [\"Surf\", 38, 5],\n",
    "    [\"Cascada\", 40, 6],\n",
    "]"
   ]
  },
  {
   "cell_type": "code",
   "execution_count": 14,
   "id": "46684c14",
   "metadata": {},
   "outputs": [],
   "source": [
    "for ataque in agua:\n",
    "    df=añadir(ataque[0], \"agua\", ataque[1], ataque[2], df)"
   ]
  },
  {
   "cell_type": "markdown",
   "id": "c168224c",
   "metadata": {},
   "source": [
    "Bicho"
   ]
  },
  {
   "cell_type": "code",
   "execution_count": 15,
   "id": "db31f7b4",
   "metadata": {},
   "outputs": [],
   "source": [
    "bicho=[\n",
    "    [\"Chupavidas\", 1, 1],\n",
    "    [\"Corte Furia\", 6, 2],\n",
    "    [\"Ráfaga\", 8, 3],\n",
    "    [\"Megacuerno\", 20, 4],\n",
    "    [\"Pin misil\", 28, 5],\n",
    "    [\"Doble Rayo\", 36, 6],\n",
    "]"
   ]
  },
  {
   "cell_type": "code",
   "execution_count": 16,
   "id": "a840e879",
   "metadata": {},
   "outputs": [],
   "source": [
    "for ataque in bicho:\n",
    "    df=añadir(ataque[0], \"bicho\", ataque[1], ataque[2], df)"
   ]
  },
  {
   "cell_type": "markdown",
   "id": "f8545d7c",
   "metadata": {},
   "source": [
    "Veneno"
   ]
  },
  {
   "cell_type": "code",
   "execution_count": 17,
   "id": "2fadc307",
   "metadata": {},
   "outputs": [],
   "source": [
    "veneno=[\n",
    "    [\"Picotazo Venenozo\", 1, 1],\n",
    "    [\"Residuos\", 8, 2],\n",
    "    [\"Polvo Veneno\", 16, 3],\n",
    "    [\"Ácido\", 22, 4],\n",
    "    [\"Gas Venenoso\", 36, 5],\n",
    "    [\"Polución\", 42, 6],\n",
    "]"
   ]
  },
  {
   "cell_type": "code",
   "execution_count": 18,
   "id": "09b57c77",
   "metadata": {},
   "outputs": [],
   "source": [
    "for ataque in veneno:\n",
    "    df=añadir(ataque[0], \"veneno\", ataque[1], ataque[2], df)"
   ]
  },
  {
   "cell_type": "markdown",
   "id": "c920c04c",
   "metadata": {},
   "source": [
    "volador"
   ]
  },
  {
   "cell_type": "code",
   "execution_count": 19,
   "id": "d3d7c7f6",
   "metadata": {},
   "outputs": [],
   "source": [
    "volador=[\n",
    "    [\"Picotazo\", 1, 1],\n",
    "    [\"Ataque Aéreo\", 8, 2],\n",
    "    [\"Movimiento Espejo\", 16, 3],\n",
    "    [\"Tornado\", 22, 4],\n",
    "    [\"Ataque Ala\", 36, 5],\n",
    "    [\"Pico Taladro\", 42, 6],\n",
    "]"
   ]
  },
  {
   "cell_type": "code",
   "execution_count": 20,
   "id": "6460aa45",
   "metadata": {},
   "outputs": [],
   "source": [
    "for ataque in volador:\n",
    "    df=añadir(ataque[0], \"volador\", ataque[1], ataque[2], df)"
   ]
  },
  {
   "cell_type": "markdown",
   "id": "5582dec7",
   "metadata": {},
   "source": [
    "Eléctrico"
   ]
  },
  {
   "cell_type": "code",
   "execution_count": 21,
   "id": "597e8fd0",
   "metadata": {},
   "outputs": [],
   "source": [
    "electrico=[\n",
    "    [\"Trueno\", 1, 1],\n",
    "    [\"Rayo\", 10, 2],\n",
    "    [\"Onda Trueno\", 20, 3],\n",
    "    [\"Placaje Eléctrico\", 22, 4],\n",
    "    [\"Impactrueno\", 28, 5],\n",
    "    [\"Electrocañón\", 36, 6],\n",
    "]"
   ]
  },
  {
   "cell_type": "code",
   "execution_count": 22,
   "id": "428f09bf",
   "metadata": {},
   "outputs": [],
   "source": [
    "for ataque in electrico:\n",
    "    df=añadir(ataque[0], \"Eléctrico\", ataque[1], ataque[2], df)"
   ]
  },
  {
   "cell_type": "markdown",
   "id": "7f9ce8a4",
   "metadata": {},
   "source": [
    "Psíquico"
   ]
  },
  {
   "cell_type": "code",
   "execution_count": 23,
   "id": "9eafef0c",
   "metadata": {},
   "outputs": [],
   "source": [
    "psiquico=[\n",
    "    [\"Agilidad\", 1, 1],\n",
    "    [\"Hipnosis\", 15, 2],\n",
    "    [\"Premonición\", 30, 5],\n",
    "    [\"Amnesia\", 35, 3],\n",
    "    [\"Kinético\", 40, 4],\n",
    "    [\"Psicoonda\", 45, 6],\n",
    "]"
   ]
  },
  {
   "cell_type": "code",
   "execution_count": 24,
   "id": "ca7f81e4",
   "metadata": {},
   "outputs": [],
   "source": [
    "for ataque in psiquico:\n",
    "    df=añadir(ataque[0], \"Psíquico\", ataque[1], ataque[2], df)"
   ]
  },
  {
   "cell_type": "markdown",
   "id": "3ed579a0",
   "metadata": {},
   "source": [
    "Conversion de columna Float a Int"
   ]
  },
  {
   "cell_type": "code",
   "execution_count": 25,
   "id": "bc428861",
   "metadata": {},
   "outputs": [],
   "source": [
    "df['lvl_aprendizaje'] = df['lvl_aprendizaje'].astype(int)"
   ]
  },
  {
   "cell_type": "markdown",
   "id": "7a98d158",
   "metadata": {},
   "source": [
    "Coversión a mayusculas de nombres propios"
   ]
  },
  {
   "cell_type": "code",
   "execution_count": 26,
   "id": "2ea4cb17",
   "metadata": {},
   "outputs": [],
   "source": [
    "df['nombre']=df['nombre'].str.upper()\n",
    "df['tipo']=df['tipo'].str.upper()"
   ]
  },
  {
   "cell_type": "markdown",
   "id": "0f7cf749",
   "metadata": {},
   "source": [
    "Exportación de Data Frame a Json"
   ]
  },
  {
   "cell_type": "code",
   "execution_count": 27,
   "id": "1073e426",
   "metadata": {},
   "outputs": [],
   "source": [
    "df.to_json('Ataques.json')"
   ]
  },
  {
   "cell_type": "markdown",
   "id": "d9df15f9",
   "metadata": {},
   "source": [
    "Visualización de Data Frame Final"
   ]
  },
  {
   "cell_type": "code",
   "execution_count": 28,
   "id": "3022fc37",
   "metadata": {
    "scrolled": true
   },
   "outputs": [
    {
     "data": {
      "text/html": [
       "<div>\n",
       "<style scoped>\n",
       "    .dataframe tbody tr th:only-of-type {\n",
       "        vertical-align: middle;\n",
       "    }\n",
       "\n",
       "    .dataframe tbody tr th {\n",
       "        vertical-align: top;\n",
       "    }\n",
       "\n",
       "    .dataframe thead th {\n",
       "        text-align: right;\n",
       "    }\n",
       "</style>\n",
       "<table border=\"1\" class=\"dataframe\">\n",
       "  <thead>\n",
       "    <tr style=\"text-align: right;\">\n",
       "      <th></th>\n",
       "      <th>nombre</th>\n",
       "      <th>tipo</th>\n",
       "      <th>lvl_aprendizaje</th>\n",
       "      <th>daño</th>\n",
       "    </tr>\n",
       "  </thead>\n",
       "  <tbody>\n",
       "    <tr>\n",
       "      <th>0</th>\n",
       "      <td>EMBESTIDA</td>\n",
       "      <td>NORMAL</td>\n",
       "      <td>1</td>\n",
       "      <td>1.0</td>\n",
       "    </tr>\n",
       "    <tr>\n",
       "      <th>1</th>\n",
       "      <td>PORTAZO</td>\n",
       "      <td>NORMAL</td>\n",
       "      <td>10</td>\n",
       "      <td>2.0</td>\n",
       "    </tr>\n",
       "    <tr>\n",
       "      <th>2</th>\n",
       "      <td>ARAÑAZO</td>\n",
       "      <td>NORMAL</td>\n",
       "      <td>16</td>\n",
       "      <td>3.0</td>\n",
       "    </tr>\n",
       "    <tr>\n",
       "      <th>3</th>\n",
       "      <td>ATAQUES FURIA</td>\n",
       "      <td>NORMAL</td>\n",
       "      <td>20</td>\n",
       "      <td>4.0</td>\n",
       "    </tr>\n",
       "    <tr>\n",
       "      <th>4</th>\n",
       "      <td>MALICIOSO</td>\n",
       "      <td>NORMAL</td>\n",
       "      <td>30</td>\n",
       "      <td>5.0</td>\n",
       "    </tr>\n",
       "    <tr>\n",
       "      <th>5</th>\n",
       "      <td>DOBLE FILO</td>\n",
       "      <td>NORMAL</td>\n",
       "      <td>40</td>\n",
       "      <td>6.0</td>\n",
       "    </tr>\n",
       "    <tr>\n",
       "      <th>6</th>\n",
       "      <td>ESPORA</td>\n",
       "      <td>PLANTA</td>\n",
       "      <td>1</td>\n",
       "      <td>1.0</td>\n",
       "    </tr>\n",
       "    <tr>\n",
       "      <th>7</th>\n",
       "      <td>LÁTIGO CEPA</td>\n",
       "      <td>PLANTA</td>\n",
       "      <td>10</td>\n",
       "      <td>2.0</td>\n",
       "    </tr>\n",
       "    <tr>\n",
       "      <th>8</th>\n",
       "      <td>ABSORBER</td>\n",
       "      <td>PLANTA</td>\n",
       "      <td>12</td>\n",
       "      <td>3.0</td>\n",
       "    </tr>\n",
       "    <tr>\n",
       "      <th>9</th>\n",
       "      <td>ARRAIGO</td>\n",
       "      <td>PLANTA</td>\n",
       "      <td>25</td>\n",
       "      <td>4.0</td>\n",
       "    </tr>\n",
       "    <tr>\n",
       "      <th>10</th>\n",
       "      <td>GIGADRENADO</td>\n",
       "      <td>PLANTA</td>\n",
       "      <td>32</td>\n",
       "      <td>5.0</td>\n",
       "    </tr>\n",
       "    <tr>\n",
       "      <th>11</th>\n",
       "      <td>DANZA PETALO</td>\n",
       "      <td>PLANTA</td>\n",
       "      <td>45</td>\n",
       "      <td>6.0</td>\n",
       "    </tr>\n",
       "    <tr>\n",
       "      <th>12</th>\n",
       "      <td>PATADA ÍGNEA</td>\n",
       "      <td>FUEGO</td>\n",
       "      <td>1</td>\n",
       "      <td>1.0</td>\n",
       "    </tr>\n",
       "    <tr>\n",
       "      <th>13</th>\n",
       "      <td>SOFOCO</td>\n",
       "      <td>FUEGO</td>\n",
       "      <td>12</td>\n",
       "      <td>2.0</td>\n",
       "    </tr>\n",
       "    <tr>\n",
       "      <th>14</th>\n",
       "      <td>ONDA ÍGNEA</td>\n",
       "      <td>FUEGO</td>\n",
       "      <td>20</td>\n",
       "      <td>3.0</td>\n",
       "    </tr>\n",
       "    <tr>\n",
       "      <th>15</th>\n",
       "      <td>FUEGOSAGRADO</td>\n",
       "      <td>FUEGO</td>\n",
       "      <td>26</td>\n",
       "      <td>4.0</td>\n",
       "    </tr>\n",
       "    <tr>\n",
       "      <th>16</th>\n",
       "      <td>DÍA SOLEADO</td>\n",
       "      <td>FUEGO</td>\n",
       "      <td>32</td>\n",
       "      <td>5.0</td>\n",
       "    </tr>\n",
       "    <tr>\n",
       "      <th>17</th>\n",
       "      <td>ANILLO ÍGNEO</td>\n",
       "      <td>FUEGO</td>\n",
       "      <td>46</td>\n",
       "      <td>6.0</td>\n",
       "    </tr>\n",
       "    <tr>\n",
       "      <th>18</th>\n",
       "      <td>PISTOLA AGUA</td>\n",
       "      <td>AGUA</td>\n",
       "      <td>1</td>\n",
       "      <td>1.0</td>\n",
       "    </tr>\n",
       "    <tr>\n",
       "      <th>19</th>\n",
       "      <td>TENAZA</td>\n",
       "      <td>AGUA</td>\n",
       "      <td>8</td>\n",
       "      <td>2.0</td>\n",
       "    </tr>\n",
       "    <tr>\n",
       "      <th>20</th>\n",
       "      <td>HIDRO BOMBA</td>\n",
       "      <td>AGUA</td>\n",
       "      <td>18</td>\n",
       "      <td>3.0</td>\n",
       "    </tr>\n",
       "    <tr>\n",
       "      <th>21</th>\n",
       "      <td>RAYO BURBUJA</td>\n",
       "      <td>AGUA</td>\n",
       "      <td>30</td>\n",
       "      <td>4.0</td>\n",
       "    </tr>\n",
       "    <tr>\n",
       "      <th>22</th>\n",
       "      <td>SURF</td>\n",
       "      <td>AGUA</td>\n",
       "      <td>38</td>\n",
       "      <td>5.0</td>\n",
       "    </tr>\n",
       "    <tr>\n",
       "      <th>23</th>\n",
       "      <td>CASCADA</td>\n",
       "      <td>AGUA</td>\n",
       "      <td>40</td>\n",
       "      <td>6.0</td>\n",
       "    </tr>\n",
       "    <tr>\n",
       "      <th>24</th>\n",
       "      <td>CHUPAVIDAS</td>\n",
       "      <td>BICHO</td>\n",
       "      <td>1</td>\n",
       "      <td>1.0</td>\n",
       "    </tr>\n",
       "    <tr>\n",
       "      <th>25</th>\n",
       "      <td>CORTE FURIA</td>\n",
       "      <td>BICHO</td>\n",
       "      <td>6</td>\n",
       "      <td>2.0</td>\n",
       "    </tr>\n",
       "    <tr>\n",
       "      <th>26</th>\n",
       "      <td>RÁFAGA</td>\n",
       "      <td>BICHO</td>\n",
       "      <td>8</td>\n",
       "      <td>3.0</td>\n",
       "    </tr>\n",
       "    <tr>\n",
       "      <th>27</th>\n",
       "      <td>MEGACUERNO</td>\n",
       "      <td>BICHO</td>\n",
       "      <td>20</td>\n",
       "      <td>4.0</td>\n",
       "    </tr>\n",
       "    <tr>\n",
       "      <th>28</th>\n",
       "      <td>PIN MISIL</td>\n",
       "      <td>BICHO</td>\n",
       "      <td>28</td>\n",
       "      <td>5.0</td>\n",
       "    </tr>\n",
       "    <tr>\n",
       "      <th>29</th>\n",
       "      <td>DOBLE RAYO</td>\n",
       "      <td>BICHO</td>\n",
       "      <td>36</td>\n",
       "      <td>6.0</td>\n",
       "    </tr>\n",
       "    <tr>\n",
       "      <th>30</th>\n",
       "      <td>PICOTAZO VENENOZO</td>\n",
       "      <td>VENENO</td>\n",
       "      <td>1</td>\n",
       "      <td>1.0</td>\n",
       "    </tr>\n",
       "    <tr>\n",
       "      <th>31</th>\n",
       "      <td>RESIDUOS</td>\n",
       "      <td>VENENO</td>\n",
       "      <td>8</td>\n",
       "      <td>2.0</td>\n",
       "    </tr>\n",
       "    <tr>\n",
       "      <th>32</th>\n",
       "      <td>POLVO VENENO</td>\n",
       "      <td>VENENO</td>\n",
       "      <td>16</td>\n",
       "      <td>3.0</td>\n",
       "    </tr>\n",
       "    <tr>\n",
       "      <th>33</th>\n",
       "      <td>ÁCIDO</td>\n",
       "      <td>VENENO</td>\n",
       "      <td>22</td>\n",
       "      <td>4.0</td>\n",
       "    </tr>\n",
       "    <tr>\n",
       "      <th>34</th>\n",
       "      <td>GAS VENENOSO</td>\n",
       "      <td>VENENO</td>\n",
       "      <td>36</td>\n",
       "      <td>5.0</td>\n",
       "    </tr>\n",
       "    <tr>\n",
       "      <th>35</th>\n",
       "      <td>POLUCIÓN</td>\n",
       "      <td>VENENO</td>\n",
       "      <td>42</td>\n",
       "      <td>6.0</td>\n",
       "    </tr>\n",
       "    <tr>\n",
       "      <th>36</th>\n",
       "      <td>PICOTAZO</td>\n",
       "      <td>VOLADOR</td>\n",
       "      <td>1</td>\n",
       "      <td>1.0</td>\n",
       "    </tr>\n",
       "    <tr>\n",
       "      <th>37</th>\n",
       "      <td>ATAQUE AÉREO</td>\n",
       "      <td>VOLADOR</td>\n",
       "      <td>8</td>\n",
       "      <td>2.0</td>\n",
       "    </tr>\n",
       "    <tr>\n",
       "      <th>38</th>\n",
       "      <td>MOVIMIENTO ESPEJO</td>\n",
       "      <td>VOLADOR</td>\n",
       "      <td>16</td>\n",
       "      <td>3.0</td>\n",
       "    </tr>\n",
       "    <tr>\n",
       "      <th>39</th>\n",
       "      <td>TORNADO</td>\n",
       "      <td>VOLADOR</td>\n",
       "      <td>22</td>\n",
       "      <td>4.0</td>\n",
       "    </tr>\n",
       "    <tr>\n",
       "      <th>40</th>\n",
       "      <td>ATAQUE ALA</td>\n",
       "      <td>VOLADOR</td>\n",
       "      <td>36</td>\n",
       "      <td>5.0</td>\n",
       "    </tr>\n",
       "    <tr>\n",
       "      <th>41</th>\n",
       "      <td>PICO TALADRO</td>\n",
       "      <td>VOLADOR</td>\n",
       "      <td>42</td>\n",
       "      <td>6.0</td>\n",
       "    </tr>\n",
       "    <tr>\n",
       "      <th>42</th>\n",
       "      <td>TRUENO</td>\n",
       "      <td>ELÉCTRICO</td>\n",
       "      <td>1</td>\n",
       "      <td>1.0</td>\n",
       "    </tr>\n",
       "    <tr>\n",
       "      <th>43</th>\n",
       "      <td>RAYO</td>\n",
       "      <td>ELÉCTRICO</td>\n",
       "      <td>10</td>\n",
       "      <td>2.0</td>\n",
       "    </tr>\n",
       "    <tr>\n",
       "      <th>44</th>\n",
       "      <td>ONDA TRUENO</td>\n",
       "      <td>ELÉCTRICO</td>\n",
       "      <td>20</td>\n",
       "      <td>3.0</td>\n",
       "    </tr>\n",
       "    <tr>\n",
       "      <th>45</th>\n",
       "      <td>PLACAJE ELÉCTRICO</td>\n",
       "      <td>ELÉCTRICO</td>\n",
       "      <td>22</td>\n",
       "      <td>4.0</td>\n",
       "    </tr>\n",
       "    <tr>\n",
       "      <th>46</th>\n",
       "      <td>IMPACTRUENO</td>\n",
       "      <td>ELÉCTRICO</td>\n",
       "      <td>28</td>\n",
       "      <td>5.0</td>\n",
       "    </tr>\n",
       "    <tr>\n",
       "      <th>47</th>\n",
       "      <td>ELECTROCAÑÓN</td>\n",
       "      <td>ELÉCTRICO</td>\n",
       "      <td>36</td>\n",
       "      <td>6.0</td>\n",
       "    </tr>\n",
       "    <tr>\n",
       "      <th>48</th>\n",
       "      <td>AGILIDAD</td>\n",
       "      <td>PSÍQUICO</td>\n",
       "      <td>1</td>\n",
       "      <td>1.0</td>\n",
       "    </tr>\n",
       "    <tr>\n",
       "      <th>49</th>\n",
       "      <td>HIPNOSIS</td>\n",
       "      <td>PSÍQUICO</td>\n",
       "      <td>15</td>\n",
       "      <td>2.0</td>\n",
       "    </tr>\n",
       "    <tr>\n",
       "      <th>50</th>\n",
       "      <td>PREMONICIÓN</td>\n",
       "      <td>PSÍQUICO</td>\n",
       "      <td>30</td>\n",
       "      <td>5.0</td>\n",
       "    </tr>\n",
       "    <tr>\n",
       "      <th>51</th>\n",
       "      <td>AMNESIA</td>\n",
       "      <td>PSÍQUICO</td>\n",
       "      <td>35</td>\n",
       "      <td>3.0</td>\n",
       "    </tr>\n",
       "    <tr>\n",
       "      <th>52</th>\n",
       "      <td>KINÉTICO</td>\n",
       "      <td>PSÍQUICO</td>\n",
       "      <td>40</td>\n",
       "      <td>4.0</td>\n",
       "    </tr>\n",
       "    <tr>\n",
       "      <th>53</th>\n",
       "      <td>PSICOONDA</td>\n",
       "      <td>PSÍQUICO</td>\n",
       "      <td>45</td>\n",
       "      <td>6.0</td>\n",
       "    </tr>\n",
       "  </tbody>\n",
       "</table>\n",
       "</div>"
      ],
      "text/plain": [
       "               nombre       tipo  lvl_aprendizaje  daño\n",
       "0           EMBESTIDA     NORMAL                1   1.0\n",
       "1             PORTAZO     NORMAL               10   2.0\n",
       "2             ARAÑAZO     NORMAL               16   3.0\n",
       "3       ATAQUES FURIA     NORMAL               20   4.0\n",
       "4           MALICIOSO     NORMAL               30   5.0\n",
       "5          DOBLE FILO     NORMAL               40   6.0\n",
       "6              ESPORA     PLANTA                1   1.0\n",
       "7         LÁTIGO CEPA     PLANTA               10   2.0\n",
       "8            ABSORBER     PLANTA               12   3.0\n",
       "9             ARRAIGO     PLANTA               25   4.0\n",
       "10        GIGADRENADO     PLANTA               32   5.0\n",
       "11       DANZA PETALO     PLANTA               45   6.0\n",
       "12       PATADA ÍGNEA      FUEGO                1   1.0\n",
       "13             SOFOCO      FUEGO               12   2.0\n",
       "14         ONDA ÍGNEA      FUEGO               20   3.0\n",
       "15       FUEGOSAGRADO      FUEGO               26   4.0\n",
       "16        DÍA SOLEADO      FUEGO               32   5.0\n",
       "17       ANILLO ÍGNEO      FUEGO               46   6.0\n",
       "18       PISTOLA AGUA       AGUA                1   1.0\n",
       "19             TENAZA       AGUA                8   2.0\n",
       "20        HIDRO BOMBA       AGUA               18   3.0\n",
       "21       RAYO BURBUJA       AGUA               30   4.0\n",
       "22               SURF       AGUA               38   5.0\n",
       "23            CASCADA       AGUA               40   6.0\n",
       "24         CHUPAVIDAS      BICHO                1   1.0\n",
       "25        CORTE FURIA      BICHO                6   2.0\n",
       "26             RÁFAGA      BICHO                8   3.0\n",
       "27         MEGACUERNO      BICHO               20   4.0\n",
       "28          PIN MISIL      BICHO               28   5.0\n",
       "29         DOBLE RAYO      BICHO               36   6.0\n",
       "30  PICOTAZO VENENOZO     VENENO                1   1.0\n",
       "31           RESIDUOS     VENENO                8   2.0\n",
       "32       POLVO VENENO     VENENO               16   3.0\n",
       "33              ÁCIDO     VENENO               22   4.0\n",
       "34       GAS VENENOSO     VENENO               36   5.0\n",
       "35           POLUCIÓN     VENENO               42   6.0\n",
       "36           PICOTAZO    VOLADOR                1   1.0\n",
       "37       ATAQUE AÉREO    VOLADOR                8   2.0\n",
       "38  MOVIMIENTO ESPEJO    VOLADOR               16   3.0\n",
       "39            TORNADO    VOLADOR               22   4.0\n",
       "40         ATAQUE ALA    VOLADOR               36   5.0\n",
       "41       PICO TALADRO    VOLADOR               42   6.0\n",
       "42             TRUENO  ELÉCTRICO                1   1.0\n",
       "43               RAYO  ELÉCTRICO               10   2.0\n",
       "44        ONDA TRUENO  ELÉCTRICO               20   3.0\n",
       "45  PLACAJE ELÉCTRICO  ELÉCTRICO               22   4.0\n",
       "46        IMPACTRUENO  ELÉCTRICO               28   5.0\n",
       "47       ELECTROCAÑÓN  ELÉCTRICO               36   6.0\n",
       "48           AGILIDAD   PSÍQUICO                1   1.0\n",
       "49           HIPNOSIS   PSÍQUICO               15   2.0\n",
       "50        PREMONICIÓN   PSÍQUICO               30   5.0\n",
       "51            AMNESIA   PSÍQUICO               35   3.0\n",
       "52           KINÉTICO   PSÍQUICO               40   4.0\n",
       "53          PSICOONDA   PSÍQUICO               45   6.0"
      ]
     },
     "execution_count": 28,
     "metadata": {},
     "output_type": "execute_result"
    }
   ],
   "source": [
    "df"
   ]
  },
  {
   "cell_type": "code",
   "execution_count": 29,
   "id": "2f3153e7",
   "metadata": {},
   "outputs": [
    {
     "data": {
      "text/plain": [
       "'EMBESTIDA'"
      ]
     },
     "execution_count": 29,
     "metadata": {},
     "output_type": "execute_result"
    }
   ],
   "source": [
    "filtro = df[\"nombre\"] == \"EMBESTIDA\"\n",
    "df[filtro].iloc[0,0]"
   ]
  },
  {
   "cell_type": "code",
   "execution_count": 30,
   "id": "5e458cb4",
   "metadata": {
    "scrolled": true
   },
   "outputs": [
    {
     "name": "stdout",
     "output_type": "stream",
     "text": [
      "DOBLE FILO\n",
      "MALICIOSO\n",
      "ATAQUES FURIA\n",
      "ARAÑAZO\n",
      "PORTAZO\n",
      "EMBESTIDA\n"
     ]
    }
   ],
   "source": [
    "filtrotipo= df[\"tipo\"]==\"NORMAL\"\n",
    "filtrolvl = df[\"lvl_aprendizaje\"] <= 50\n",
    "aprendidos=df[filtrotipo&filtrolvl].shape[0]-1\n",
    "aprendido=aprendidos\n",
    "while(aprendidos>=0):\n",
    "    print(df[filtrotipo&filtrolvl].iloc[aprendidos, 0])\n",
    "    aprendidos-=1"
   ]
  },
  {
   "cell_type": "code",
   "execution_count": 31,
   "id": "5eb2276b",
   "metadata": {},
   "outputs": [
    {
     "data": {
      "text/plain": [
       "array([4, 5, 1, 3])"
      ]
     },
     "execution_count": 31,
     "metadata": {},
     "output_type": "execute_result"
    }
   ],
   "source": [
    "array=np.random.randint(1, aprendido, size=1)\n",
    "tamaño=1\n",
    "while(tamaño<4):\n",
    "    numero=random.randint(1,aprendido)\n",
    "    ok=1\n",
    "    while(ok==1):\n",
    "        ok=0\n",
    "        for elemento in array:\n",
    "            if (elemento==numero):\n",
    "                numero=random.randint(1,5)\n",
    "                ok=1\n",
    "    array=np.append(array, numero)\n",
    "    tamaño+=1\n",
    "array"
   ]
  },
  {
   "cell_type": "code",
   "execution_count": 32,
   "id": "38ec68a3",
   "metadata": {},
   "outputs": [
    {
     "data": {
      "text/plain": [
       "'ATAQUES FURIA'"
      ]
     },
     "execution_count": 32,
     "metadata": {},
     "output_type": "execute_result"
    }
   ],
   "source": [
    "df[filtrotipo&filtrolvl].iloc[array[3], 0]"
   ]
  },
  {
   "cell_type": "code",
   "execution_count": 33,
   "id": "bdea04a6",
   "metadata": {},
   "outputs": [
    {
     "data": {
      "text/plain": [
       "'PORTAZO'"
      ]
     },
     "execution_count": 33,
     "metadata": {},
     "output_type": "execute_result"
    }
   ],
   "source": [
    "df[filtrotipo&filtrolvl].iloc[1, 0]"
   ]
  },
  {
   "cell_type": "code",
   "execution_count": 41,
   "id": "f95cc2e1",
   "metadata": {},
   "outputs": [
    {
     "data": {
      "text/plain": [
       "1.0"
      ]
     },
     "execution_count": 41,
     "metadata": {},
     "output_type": "execute_result"
    }
   ],
   "source": [
    "filtro = df[\"nombre\"] == \"ESPORA\"\n",
    "danio = df[filtro].iloc[0,3]\n",
    "danio"
   ]
  },
  {
   "cell_type": "code",
   "execution_count": null,
   "id": "71ea0ab6",
   "metadata": {},
   "outputs": [],
   "source": []
  }
 ],
 "metadata": {
  "kernelspec": {
   "display_name": "Python 3 (ipykernel)",
   "language": "python",
   "name": "python3"
  },
  "language_info": {
   "codemirror_mode": {
    "name": "ipython",
    "version": 3
   },
   "file_extension": ".py",
   "mimetype": "text/x-python",
   "name": "python",
   "nbconvert_exporter": "python",
   "pygments_lexer": "ipython3",
   "version": "3.9.10"
  }
 },
 "nbformat": 4,
 "nbformat_minor": 5
}
