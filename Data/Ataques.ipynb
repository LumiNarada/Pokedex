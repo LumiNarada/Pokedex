{
 "cells": [
  {
   "cell_type": "markdown",
   "id": "37881c7c",
   "metadata": {},
   "source": [
    "# Creación de Data Frame y JSON de Ataques"
   ]
  },
  {
   "cell_type": "markdown",
   "id": "b5c99f07",
   "metadata": {},
   "source": [
    "Importación de Librería Pandas"
   ]
  },
  {
   "cell_type": "code",
   "execution_count": 1,
   "id": "6a7458b1",
   "metadata": {},
   "outputs": [],
   "source": [
    "import pandas as pd"
   ]
  },
  {
   "cell_type": "markdown",
   "id": "8e9e93e3",
   "metadata": {},
   "source": [
    "Creación de arreglo de ataque y declaración de Data Frame"
   ]
  },
  {
   "cell_type": "code",
   "execution_count": 2,
   "id": "ffe03a0c",
   "metadata": {},
   "outputs": [],
   "source": [
    "ataques = {\n",
    "    \"nombre\":[],\n",
    "    \"tipo\":[],\n",
    "    \"lvl_aprendizaje\":[],\n",
    "}\n",
    "df = pd.DataFrame(ataques)"
   ]
  },
  {
   "cell_type": "markdown",
   "id": "16c3a506",
   "metadata": {},
   "source": [
    "Concatenación ataques al Data Frame principal"
   ]
  },
  {
   "cell_type": "code",
   "execution_count": 3,
   "id": "3a030100",
   "metadata": {},
   "outputs": [],
   "source": [
    "ataque = pd.DataFrame({'nombre':[\"Embesitda\"], \"tipo\":[\"Normal\"],\"lvl_aprendizaje\":[1]})\n",
    "df=pd.concat([df,ataque],ignore_index=True)"
   ]
  },
  {
   "cell_type": "markdown",
   "id": "3ed579a0",
   "metadata": {},
   "source": [
    "Conversion de columna Float a Int"
   ]
  },
  {
   "cell_type": "code",
   "execution_count": 4,
   "id": "bc428861",
   "metadata": {},
   "outputs": [],
   "source": [
    "df['lvl_aprendizaje'] = df['lvl_aprendizaje'].astype(int)"
   ]
  },
  {
   "cell_type": "markdown",
   "id": "0f7cf749",
   "metadata": {},
   "source": [
    "Exportación de Data Frame a Json"
   ]
  },
  {
   "cell_type": "code",
   "execution_count": 5,
   "id": "1073e426",
   "metadata": {},
   "outputs": [],
   "source": [
    "df.to_json('ataques.json')"
   ]
  },
  {
   "cell_type": "markdown",
   "id": "d9df15f9",
   "metadata": {},
   "source": [
    "Visualización de Data Frame Final"
   ]
  },
  {
   "cell_type": "code",
   "execution_count": 6,
   "id": "3022fc37",
   "metadata": {},
   "outputs": [
    {
     "data": {
      "text/html": [
       "<div>\n",
       "<style scoped>\n",
       "    .dataframe tbody tr th:only-of-type {\n",
       "        vertical-align: middle;\n",
       "    }\n",
       "\n",
       "    .dataframe tbody tr th {\n",
       "        vertical-align: top;\n",
       "    }\n",
       "\n",
       "    .dataframe thead th {\n",
       "        text-align: right;\n",
       "    }\n",
       "</style>\n",
       "<table border=\"1\" class=\"dataframe\">\n",
       "  <thead>\n",
       "    <tr style=\"text-align: right;\">\n",
       "      <th></th>\n",
       "      <th>nombre</th>\n",
       "      <th>tipo</th>\n",
       "      <th>lvl_aprendizaje</th>\n",
       "    </tr>\n",
       "  </thead>\n",
       "  <tbody>\n",
       "    <tr>\n",
       "      <th>0</th>\n",
       "      <td>Embesitda</td>\n",
       "      <td>Normal</td>\n",
       "      <td>1</td>\n",
       "    </tr>\n",
       "  </tbody>\n",
       "</table>\n",
       "</div>"
      ],
      "text/plain": [
       "      nombre    tipo  lvl_aprendizaje\n",
       "0  Embesitda  Normal                1"
      ]
     },
     "execution_count": 6,
     "metadata": {},
     "output_type": "execute_result"
    }
   ],
   "source": [
    "df"
   ]
  }
 ],
 "metadata": {
  "kernelspec": {
   "display_name": "Python 3 (ipykernel)",
   "language": "python",
   "name": "python3"
  },
  "language_info": {
   "codemirror_mode": {
    "name": "ipython",
    "version": 3
   },
   "file_extension": ".py",
   "mimetype": "text/x-python",
   "name": "python",
   "nbconvert_exporter": "python",
   "pygments_lexer": "ipython3",
   "version": "3.9.10"
  }
 },
 "nbformat": 4,
 "nbformat_minor": 5
}
